{
 "cells": [
  {
   "cell_type": "code",
   "execution_count": 85,
   "metadata": {},
   "outputs": [],
   "source": [
    "from __future__ import print_function\n",
    "import numpy as np\n",
    "np.random.seed(1)\n",
    "import sys\n",
    "import sklearn\n",
    "import sklearn.ensemble\n",
    "from anchor import utils\n",
    "from anchor import anchor_tabular\n",
    "import lime.lime_tabular\n",
    "import pandas as pd"
   ]
  },
  {
   "cell_type": "code",
   "execution_count": 35,
   "metadata": {},
   "outputs": [
    {
     "name": "stdout",
     "output_type": "stream",
     "text": [
      "[1 1 0 ... 1 0 1]\n"
     ]
    }
   ],
   "source": [
    "# make sure you have adult/adult.data inside dataset_folder\n",
    "dataset_folder = '../data/'\n",
    "dataset = utils.load_dataset('adult', balance=True, dataset_folder=dataset_folder, discretize=True)"
   ]
  },
  {
   "cell_type": "code",
   "execution_count": 18,
   "metadata": {},
   "outputs": [
    {
     "name": "stdout",
     "output_type": "stream",
     "text": [
      "Train 0.9350338780390594\n",
      "Test 0.8489483747609943\n"
     ]
    }
   ],
   "source": [
    "rf = sklearn.ensemble.RandomForestClassifier(n_estimators=50, n_jobs=5)\n",
    "rf.fit(dataset.train, dataset.labels_train)\n",
    "print('Train', sklearn.metrics.accuracy_score(dataset.labels_train, rf.predict(dataset.train)))\n",
    "print('Test', sklearn.metrics.accuracy_score(dataset.labels_test, rf.predict(dataset.test)))"
   ]
  },
  {
   "cell_type": "markdown",
   "metadata": {},
   "source": [
    "--------------\n",
    "# Usage"
   ]
  },
  {
   "cell_type": "code",
   "execution_count": 19,
   "metadata": {},
   "outputs": [],
   "source": [
    "import xaibenchmark as xb"
   ]
  },
  {
   "cell_type": "code",
   "execution_count": 263,
   "metadata": {},
   "outputs": [],
   "source": [
    "class AnchorsExplainer(xb.Explainer):\n",
    "    \n",
    "    def __init__(self, dataset, pathToData):\n",
    "        \n",
    "        self.explainer = anchor_tabular.AnchorTabularExplainer(\n",
    "            dataset.class_names,\n",
    "            dataset.feature_names,\n",
    "            dataset.train,\n",
    "            dataset.categorical_names)\n",
    "        self.dataset = dataset   \n",
    "        self.data = pd.read_csv(pathToData, sep=',')\n",
    "        \n",
    "        \n",
    "        \n",
    "    def explain_instance(self, instance, predictor, threshold=0.95):\n",
    "        self.explanation = self.explainer.explain_instance(instance, predictor, threshold=threshold)\n",
    "        self.instance = instance   \n",
    "        return self.explanation\n",
    "    \n",
    "    @xb.metric\n",
    "    def coverage(self):\n",
    "        if hasattr(self, 'explanation'):\n",
    "            return self.explanation.coverage()\n",
    "    \n",
    "    @xb.metric\n",
    "    def precision(self):\n",
    "        if hasattr(self, 'explanation'):\n",
    "            return self.explanation.precision()\n",
    "        \n",
    "    @xb.metric\n",
    "    def balanceTrain(self):\n",
    "        return np.count_nonzero(self.dataset.labels_train) / len(self.dataset.labels_train)\n",
    "    \n",
    "    @xb.metric\n",
    "    def balanceDev(self):\n",
    "        return np.count_nonzero(self.dataset.labels_validation) / len(self.dataset.labels_validation)\n",
    "    \n",
    "    @xb.metric\n",
    "    def balanceTest(self):\n",
    "        return np.count_nonzero(self.dataset.labels_test) / len(self.dataset.labels_test)\n",
    "    \n",
    "    @xb.metric\n",
    "    def balanceExplanation(self):\n",
    "        if hasattr(self, 'explanation'):\n",
    "            labels = [\"age\", \"workclass\", \"fnlwgt\", \"education\", \"education-num\", \"marital-status\", \"occupation\", \"relationship\", \"race\", \"sex\", \"capital-gain\", \"capital-loss\", \"hours-per-week\", \"country\", \"label\"]\n",
    "            correct_relevant_examples = 0\n",
    "            correct_targets = 0\n",
    "            print(self.explanation.names())\n",
    "            for i in range(0,len(self.data)):\n",
    "                correctFeatures = True\n",
    "                for feature in self.explanation.names():\n",
    "                    if(\"Age\" in feature or \"Capital Gain\" in feature or \"Hours per week\" in feature):\n",
    "                        continue\n",
    "                        #todo\n",
    "                    else:\n",
    "                        feature2 = feature.replace(\" \", \"-\")\n",
    "                        feature_name, value = feature2.split(\"-=-\")\n",
    "                        index = labels.index(feature_name.lower())\n",
    "                        if (str(self.data.iat[i,index]).strip() != str(value).strip()): \n",
    "                            #print(\"First index: \", str(self.data.iat[i,index]).strip(), \"Second Index\" , str(value).strip(), \"Data \", self.data.iloc[[i]])\n",
    "                            correctFeatures = False\n",
    "                if correctFeatures:\n",
    "                    if(self.data.iat[i,14].strip() == \">50K\"):\n",
    "                        correct_targets += 1\n",
    "                    correct_relevant_examples += 1\n",
    "        if correct_targets == 0: return 0\n",
    "        return correct_targets / correct_relevant_examples\n",
    "        \n",
    "    @xb.utility\n",
    "    def get_neighborhood_instances(self): \n",
    "        if hasattr(self, 'explanation'):\n",
    "            fit_anchor = np.where(np.all(self.dataset.train[:, self.explanation.features()] == self.instance[self.explanation.features()], axis=1))[0]\n",
    "            return self.dataset.train[fit_anchor]\n",
    "        return []\n",
    "    \n",
    "    @xb.utility\n",
    "    def get_explained_instance(self):\n",
    "        return self.instance\n",
    "    \n",
    "    @xb.utility\n",
    "    def distance(self, x, y):\n",
    "        return np.linalg.norm(x-y)\n",
    "    \n",
    "    \n",
    "        "
   ]
  },
  {
   "cell_type": "code",
   "execution_count": 265,
   "metadata": {},
   "outputs": [
    {
     "name": "stdout",
     "output_type": "stream",
     "text": [
      "['Marital Status = Married-civ-spouse', 'Relationship = Husband', 'Occupation = Exec-managerial', '37.00 < Age <= 48.00', 'Education = Masters']\n"
     ]
    },
    {
     "data": {
      "text/plain": [
       "0.8825396825396825"
      ]
     },
     "execution_count": 265,
     "metadata": {},
     "output_type": "execute_result"
    }
   ],
   "source": [
    "# instantiate anchors explainer\n",
    "exp = AnchorsExplainer(dataset ,\"../data/adult/adult.data\")\n",
    "explanation = exp.explain_instance(dataset.test[4], rf.predict, threshold=0.95)\n",
    "exp.balanceExplanation()"
   ]
  },
  {
   "cell_type": "code",
   "execution_count": null,
   "metadata": {},
   "outputs": [],
   "source": [
    "dataset.categorical_features"
   ]
  },
  {
   "cell_type": "code",
   "execution_count": 81,
   "metadata": {},
   "outputs": [
    {
     "data": {
      "text/plain": [
       "['Age',\n",
       " 'Workclass',\n",
       " 'Education',\n",
       " 'Marital Status',\n",
       " 'Occupation',\n",
       " 'Relationship',\n",
       " 'Race',\n",
       " 'Sex',\n",
       " 'Capital Gain',\n",
       " 'Capital Loss',\n",
       " 'Hours per week',\n",
       " 'Country']"
      ]
     },
     "execution_count": 81,
     "metadata": {},
     "output_type": "execute_result"
    }
   ],
   "source": [
    "dataset.feature_names"
   ]
  },
  {
   "cell_type": "code",
   "execution_count": 57,
   "metadata": {},
   "outputs": [
    {
     "name": "stdout",
     "output_type": "stream",
     "text": [
      "0.5006775607811877\n"
     ]
    }
   ],
   "source": [
    "# get all currently defined metrics\n",
    "exp.metrics()\n",
    "print(exp.balanceTrain())"
   ]
  },
  {
   "cell_type": "code",
   "execution_count": 58,
   "metadata": {},
   "outputs": [
    {
     "data": {
      "text/plain": [
       "{('balanceDev', 0.4968112244897959),\n",
       " ('balanceTest', 0.49776927979604846),\n",
       " ('balanceTrain', 0.5006775607811877),\n",
       " ('coverage', nan),\n",
       " ('precision', nan)}"
      ]
     },
     "execution_count": 58,
     "metadata": {},
     "output_type": "execute_result"
    }
   ],
   "source": [
    "# report all current metrics\n",
    "exp.report()"
   ]
  },
  {
   "cell_type": "code",
   "execution_count": 59,
   "metadata": {},
   "outputs": [
    {
     "data": {
      "text/plain": [
       "[]"
      ]
     },
     "execution_count": 59,
     "metadata": {},
     "output_type": "execute_result"
    }
   ],
   "source": [
    "exp.get_neighborhood_instances()"
   ]
  },
  {
   "cell_type": "code",
   "execution_count": 102,
   "metadata": {},
   "outputs": [],
   "source": [
    "# explain a single instance (needed to compute coverage)\n",
    "explanation = exp.explain_instance(dataset.test[0], rf.predict, threshold=0.95)"
   ]
  },
  {
   "cell_type": "code",
   "execution_count": 61,
   "metadata": {},
   "outputs": [
    {
     "data": {
      "text/plain": [
       "['balanceDev', 'balanceTest', 'balanceTrain', 'coverage', 'precision']"
      ]
     },
     "execution_count": 61,
     "metadata": {},
     "output_type": "execute_result"
    }
   ],
   "source": [
    "# get all currently defined metrics\n",
    "exp.metrics()"
   ]
  },
  {
   "cell_type": "code",
   "execution_count": 62,
   "metadata": {},
   "outputs": [
    {
     "data": {
      "text/plain": [
       "{('balanceDev', 0.4968112244897959),\n",
       " ('balanceTest', 0.49776927979604846),\n",
       " ('balanceTrain', 0.5006775607811877),\n",
       " ('coverage', 0.017),\n",
       " ('precision', 0.9710144927536232)}"
      ]
     },
     "execution_count": 62,
     "metadata": {},
     "output_type": "execute_result"
    }
   ],
   "source": [
    "# report all current metrics\n",
    "exp.report()"
   ]
  },
  {
   "cell_type": "code",
   "execution_count": 63,
   "metadata": {},
   "outputs": [
    {
     "name": "stdout",
     "output_type": "stream",
     "text": [
      "inferred metrics: {'furthest_distance', 'balanceTrain', 'balanceDev', 'coverage', 'precision', 'balanceTest', 'inverse_coverage'}\n"
     ]
    }
   ],
   "source": [
    "# infer other possible metrics\n",
    "exp.infer_metrics()"
   ]
  },
  {
   "cell_type": "code",
   "execution_count": 64,
   "metadata": {},
   "outputs": [
    {
     "data": {
      "text/plain": [
       "['balanceDev',\n",
       " 'balanceTest',\n",
       " 'balanceTrain',\n",
       " 'coverage',\n",
       " 'furthest_distance',\n",
       " 'inverse_coverage',\n",
       " 'precision']"
      ]
     },
     "execution_count": 64,
     "metadata": {},
     "output_type": "execute_result"
    }
   ],
   "source": [
    "# get all currently defined metrics\n",
    "exp.metrics()"
   ]
  },
  {
   "cell_type": "code",
   "execution_count": 65,
   "metadata": {},
   "outputs": [
    {
     "data": {
      "text/plain": [
       "{('balanceDev', 0.4968112244897959),\n",
       " ('balanceTest', 0.49776927979604846),\n",
       " ('balanceTrain', 0.5006775607811877),\n",
       " ('coverage', 0.017),\n",
       " ('furthest_distance', 39.102429592034305),\n",
       " ('inverse_coverage', 58.8235294117647),\n",
       " ('precision', 0.9710144927536232)}"
      ]
     },
     "execution_count": 65,
     "metadata": {},
     "output_type": "execute_result"
    }
   ],
   "source": [
    "# report all current metrics\n",
    "exp.report()"
   ]
  },
  {
   "cell_type": "code",
   "execution_count": null,
   "metadata": {},
   "outputs": [],
   "source": []
  },
  {
   "cell_type": "code",
   "execution_count": null,
   "metadata": {},
   "outputs": [],
   "source": []
  }
 ],
 "metadata": {
  "kernelspec": {
   "display_name": "base",
   "language": "python",
   "name": "base"
  },
  "language_info": {
   "codemirror_mode": {
    "name": "ipython",
    "version": 3
   },
   "file_extension": ".py",
   "mimetype": "text/x-python",
   "name": "python",
   "nbconvert_exporter": "python",
   "pygments_lexer": "ipython3",
   "version": "3.8.5"
  }
 },
 "nbformat": 4,
 "nbformat_minor": 4
}
