{
 "cells": [
  {
   "cell_type": "code",
   "execution_count": 1,
   "id": "59bb2881-6b79-43b8-b61f-c55b8fec1c99",
   "metadata": {
    "tags": []
   },
   "outputs": [],
   "source": [
    "import xaibenchmark as xb\n",
    "from xaibenchmark import explainers\n",
    "\n",
    "from xaibenchmark import load_adult as la\n",
    "from xaibenchmark.comparator import ExplainerComparator\n",
    "from anchor import utils\n",
    "\n",
    "import sklearn\n",
    "import sklearn.ensemble\n",
    "\n",
    "import math\n",
    "import numpy as np\n",
    "import pandas as pd\n",
    "\n",
    "from lime import lime_tabular\n",
    "from anchor import anchor_tabular"
   ]
  },
  {
   "cell_type": "code",
   "execution_count": 2,
   "id": "e02cf9e3-45d0-4b6e-a94e-f1f5c64a9b75",
   "metadata": {},
   "outputs": [],
   "source": [
    "data = la.load_csv_data('adult', root_path='../data')"
   ]
  },
  {
   "cell_type": "code",
   "execution_count": 3,
   "id": "a9583724-2d6b-4507-b4f7-02af221d91e5",
   "metadata": {},
   "outputs": [
    {
     "name": "stdout",
     "output_type": "stream",
     "text": [
      "Train 0.9996928881674199\n",
      "Dev 0.8526822276822277\n",
      "Test 0.8518518518518519\n"
     ]
    }
   ],
   "source": [
    "rf = sklearn.ensemble.RandomForestClassifier(n_estimators=50, n_jobs=5)\n",
    "rf.fit(xb.utils.onehot_encode(data.data, data), data.target.to_numpy().reshape(-1))\n",
    "print('Train', sklearn.metrics.accuracy_score(data.target, rf.predict(xb.utils.onehot_encode(data.data, data))))\n",
    "print('Dev', sklearn.metrics.accuracy_score(data.target_dev, rf.predict(xb.utils.onehot_encode(data.data_dev, data))))\n",
    "print('Test', sklearn.metrics.accuracy_score(data.target_test, rf.predict(xb.utils.onehot_encode(data.data_test, data))))"
   ]
  },
  {
   "cell_type": "code",
   "execution_count": 4,
   "id": "4b97673c-06c9-4407-aa09-3da4177bad74",
   "metadata": {},
   "outputs": [],
   "source": [
    "pred_fn = lambda x: rf.predict_proba(xb.utils.onehot_encode(x, data))\n",
    "ex_lime = explainers.LimeExplainer(data, pred_fn, discretize_continuous=False)"
   ]
  },
  {
   "cell_type": "code",
   "execution_count": 5,
   "id": "3c071756-d26b-4878-a7b9-60d7de7bb5db",
   "metadata": {},
   "outputs": [],
   "source": [
    "pred_fn = lambda x: rf.predict(xb.utils.onehot_encode(x, data))\n",
    "ex_anchors = explainers.AnchorsExplainer(data, pred_fn)"
   ]
  },
  {
   "cell_type": "code",
   "execution_count": 6,
   "id": "bec099ae-a558-4189-a94c-991f3b11d877",
   "metadata": {},
   "outputs": [
    {
     "data": {
      "text/plain": [
       "<anchor.anchor_explanation.AnchorExplanation at 0x7f6f701545e0>"
      ]
     },
     "execution_count": 6,
     "metadata": {},
     "output_type": "execute_result"
    }
   ],
   "source": [
    "ex_lime.explain_instance(data.data.iloc[[0]])\n",
    "ex_anchors.explain_instance(data.data.iloc[[0]])"
   ]
  },
  {
   "cell_type": "code",
   "execution_count": 7,
   "id": "d7564a8e-546b-497a-9305-8c680fc6d5ca",
   "metadata": {},
   "outputs": [],
   "source": [
    "comp = ExplainerComparator()\n",
    "comp.add_explainer(ex_anchors, 'ANCHORS')\n",
    "comp.add_explainer(ex_lime, 'LIME')"
   ]
  },
  {
   "cell_type": "code",
   "execution_count": 8,
   "id": "d6cb5d9d-e8c7-462b-9d37-5f357a52efd4",
   "metadata": {},
   "outputs": [],
   "source": [
    "comp.explain_instances(data.data.iloc[[1, 2, 3000]])"
   ]
  },
  {
   "cell_type": "code",
   "execution_count": 9,
   "id": "03c8778f-b13f-4e0f-8996-62f591767f51",
   "metadata": {},
   "outputs": [
    {
     "name": "stdout",
     "output_type": "stream",
     "text": [
      "Average metric values for explainer ANCHORS :\n",
      "\t precision : 0.8226937661941259\n",
      "\t coverage : 0.11746666666666666\n",
      "\t balance_explanation : 0.6666666666666666\n",
      "\t relative_area : 0.04761904799906667\n",
      "\t inverse_coverage : 68.97526194513283\n",
      "\t accuracy : 0.9847462203023758\n",
      "\t balance_model : 0.6819204463642908\n",
      "Average metric values for explainer LIME :\n",
      "\t area_norm : 19.537233873073223\n",
      "\t furthest_distance : 2.812814099636249\n",
      "\t coverage : 6.141227152623689e-05\n",
      "\t balance : 0.0925722809634537\n",
      "\t accuracy : 0.1891077670044897\n",
      "\t area : 2.589477453233665e+139\n",
      "\t inverse_coverage : 17669.352561741227\n"
     ]
    }
   ],
   "source": [
    "comp.print_metrics()"
   ]
  },
  {
   "cell_type": "code",
   "execution_count": null,
   "id": "8304c710-b48e-4d11-9afd-746c0e2e5e85",
   "metadata": {},
   "outputs": [],
   "source": []
  }
 ],
 "metadata": {
  "kernelspec": {
   "display_name": "xai",
   "language": "python",
   "name": "xai"
  },
  "language_info": {
   "codemirror_mode": {
    "name": "ipython",
    "version": 3
   },
   "file_extension": ".py",
   "mimetype": "text/x-python",
   "name": "python",
   "nbconvert_exporter": "python",
   "pygments_lexer": "ipython3",
   "version": "3.8.5"
  }
 },
 "nbformat": 4,
 "nbformat_minor": 5
}
