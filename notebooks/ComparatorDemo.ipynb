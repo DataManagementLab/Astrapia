{
 "cells": [
  {
   "cell_type": "code",
   "execution_count": 1,
   "metadata": {
    "pycharm": {
     "is_executing": false
    }
   },
   "outputs": [],
   "source": [
    "import numpy as np\n",
    "import sklearn.ensemble\n",
    "from anchor import utils\n",
    "import xaibenchmark as xb\n",
    "from xaibenchmark import load_adult as la\n",
    "from xaibenchmark import preprocessing\n",
    "from xaibenchmark.comparator import ExplainerComparator\n",
    "\n",
    "np.random.seed(1)"
   ]
  },
  {
   "cell_type": "code",
   "execution_count": 2,
   "metadata": {
    "pycharm": {
     "is_executing": false
    }
   },
   "outputs": [],
   "source": [
    "# make sure you have adult/adult.data inside dataset_folder\n",
    "dataset_folder = '../data/'\n",
    "adult_dataset = utils.load_dataset('adult', balance=True, dataset_folder=dataset_folder, discretize=True)"
   ]
  },
  {
   "cell_type": "code",
   "execution_count": 3,
   "metadata": {
    "pycharm": {
     "is_executing": false
    }
   },
   "outputs": [
    {
     "data": {
      "text/plain": "RandomForestClassifier(n_estimators=50, n_jobs=5)"
     },
     "metadata": {},
     "output_type": "execute_result",
     "execution_count": 3
    }
   ],
   "source": [
    "rf = sklearn.ensemble.RandomForestClassifier(n_estimators=50, n_jobs=5)\n",
    "rf.fit(adult_dataset.train, adult_dataset.labels_train)"
   ]
  },
  {
   "cell_type": "code",
   "execution_count": 4,
   "metadata": {
    "pycharm": {
     "is_executing": false
    }
   },
   "outputs": [
    {
     "data": {
      "text/plain": "dict_keys(['labels', 'class_names', 'class_target', 'ordinal_features', 'categorical_features', 'categorical_names', 'feature_names', 'data', 'train', 'labels_train', 'validation', 'labels_validation', 'test', 'labels_test', 'test_idx', 'validation_idx', 'train_idx'])"
     },
     "metadata": {},
     "output_type": "execute_result",
     "execution_count": 4
    }
   ],
   "source": [
    "adult_dataset.__dict__.keys()"
   ]
  },
  {
   "cell_type": "code",
   "execution_count": 5,
   "metadata": {
    "pycharm": {
     "is_executing": false
    }
   },
   "outputs": [
    {
     "data": {
      "text/plain": "['Age',\n 'Workclass',\n 'Education',\n 'Marital Status',\n 'Occupation',\n 'Relationship',\n 'Race',\n 'Sex',\n 'Capital Gain',\n 'Capital Loss',\n 'Hours per week',\n 'Country']"
     },
     "metadata": {},
     "output_type": "execute_result",
     "execution_count": 5
    }
   ],
   "source": [
    "adult_dataset.feature_names"
   ]
  },
  {
   "cell_type": "code",
   "execution_count": 6,
   "metadata": {
    "pycharm": {
     "is_executing": false
    }
   },
   "outputs": [
    {
     "data": {
      "text/plain": "array([[ 3.,  6., 15., ...,  0.,  1., 39.],\n       [ 2.,  7., 10., ...,  0.,  0., 22.],\n       [ 3.,  4., 15., ...,  0.,  0., 39.],\n       ...,\n       [ 1.,  6.,  5., ...,  0.,  1., 39.],\n       [ 3.,  4., 11., ...,  0.,  0., 39.],\n       [ 2.,  4., 15., ...,  0.,  0.,  8.]])"
     },
     "metadata": {},
     "output_type": "execute_result",
     "execution_count": 6
    }
   ],
   "source": [
    "adult_dataset.train"
   ]
  },
  {
   "cell_type": "code",
   "execution_count": 7,
   "metadata": {
    "pycharm": {
     "is_executing": false
    }
   },
   "outputs": [
    {
     "data": {
      "text/plain": "RandomForestClassifier()"
     },
     "metadata": {},
     "output_type": "execute_result",
     "execution_count": 7
    }
   ],
   "source": [
    "data = la.load_csv_data('adult', root_path=dataset_folder)\n",
    "lime_training_set = preprocessing.lime_preprocess_dataset(data.data, data.categorical_features, data.data.keys())\n",
    "lime_ml_model = sklearn.ensemble.RandomForestClassifier(n_estimators=100)\n",
    "lime_ml_model.fit(lime_training_set, data.target.to_numpy().reshape(-1))    "
   ]
  },
  {
   "cell_type": "markdown",
   "metadata": {},
   "source": [
    "--------------\n",
    "### IMport Explainers"
   ]
  },
  {
   "cell_type": "code",
   "execution_count": 8,
   "metadata": {
    "pycharm": {
     "is_executing": false
    }
   },
   "outputs": [],
   "source": [
    "from xaibenchmark.explainers import AnchorsExplainer, LimeExplainer"
   ]
  },
  {
   "cell_type": "markdown",
   "metadata": {},
   "source": [
    "### Usage of implemented explainer"
   ]
  },
  {
   "cell_type": "code",
   "execution_count": 9,
   "metadata": {
    "pycharm": {
     "is_executing": false
    }
   },
   "outputs": [],
   "source": [
    "# instantiate anchors explainer\n",
    "exp1 = AnchorsExplainer(rf, '../data/', 'adult')\n",
    "exp2 = LimeExplainer(data, lime_ml_model, discretize_continuous=False)"
   ]
  },
  {
   "cell_type": "code",
   "execution_count": 10,
   "metadata": {
    "pycharm": {
     "is_executing": false
    }
   },
   "outputs": [],
   "source": [
    "data = la.load_csv_data('adult', root_path='../data/')"
   ]
  },
  {
   "cell_type": "code",
   "execution_count": 11,
   "metadata": {
    "collapsed": false,
    "jupyter": {
     "outputs_hidden": false
    },
    "pycharm": {
     "is_executing": false,
     "name": "#%%\n"
    }
   },
   "outputs": [
    {
     "name": "stdout",
     "text": [
      "Current explanation: ['Education = 5th-6th']\n"
     ],
     "output_type": "stream"
    }
   ],
   "source": [
    "explanation = exp1.explain_instance(data.data.iloc[[70]], \"test\", threshold=0.65)\n",
    "print(\"Current explanation:\", explanation.names())"
   ]
  },
  {
   "cell_type": "code",
   "execution_count": 12,
   "metadata": {
    "pycharm": {
     "is_executing": false
    }
   },
   "outputs": [],
   "source": [
    "comp = ExplainerComparator()\n",
    "comp.add_explainer(exp1, 'ANCHORS')\n",
    "comp.add_explainer(exp2, 'LIME')"
   ]
  },
  {
   "cell_type": "code",
   "execution_count": 13,
   "metadata": {
    "pycharm": {
     "is_executing": false
    }
   },
   "outputs": [],
   "source": [
    "comp.explain_instance(data.data.iloc[[5000]])"
   ]
  },
  {
   "cell_type": "code",
   "execution_count": 14,
   "metadata": {
    "pycharm": {
     "is_executing": false
    }
   },
   "outputs": [
    {
     "name": "stdout",
     "text": [
      "ANCHORS : {('area', 0.0625), ('balance_model', 0.06451612903225806), ('precision', 0.78369384359401), ('accuracy', 0.9354838709677419), ('coverage', 0.0028), ('inverse_coverage', 357.14285714285717), ('balance_data', 0.0967741935483871), ('area_norm', 0.7937005259840998), ('balance_explanation', 0)}\nLIME : {('area_norm', 19.537233873073223), ('accuracy', 0.7801956741104725), ('area', 2.589477453233665e+139), ('coverage', 4.053974932076651e-09), ('balance', 0.0194796648093713), ('furthest_distance', 0.003246795437737045), ('inverse_coverage', 246671480.89338318)}\n"
     ],
     "output_type": "stream"
    }
   ],
   "source": [
    "comp.print_metrics()"
   ]
  },
  {
   "cell_type": "code",
   "execution_count": 14,
   "metadata": {
    "pycharm": {
     "is_executing": false
    }
   },
   "outputs": [],
   "source": []
  }
 ],
 "metadata": {
  "kernelspec": {
   "name": "python3",
   "language": "python",
   "display_name": "Python 3"
  },
  "language_info": {
   "codemirror_mode": {
    "name": "ipython",
    "version": 3
   },
   "file_extension": ".py",
   "mimetype": "text/x-python",
   "name": "python",
   "nbconvert_exporter": "python",
   "pygments_lexer": "ipython3",
   "version": "3.8.5"
  },
  "pycharm": {
   "stem_cell": {
    "cell_type": "raw",
    "source": [],
    "metadata": {
     "collapsed": false
    }
   }
  }
 },
 "nbformat": 4,
 "nbformat_minor": 4
}