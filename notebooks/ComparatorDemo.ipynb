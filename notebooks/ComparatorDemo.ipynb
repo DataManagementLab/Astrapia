{
 "cells": [
  {
   "cell_type": "code",
   "execution_count": 1,
   "metadata": {
    "pycharm": {
     "is_executing": false
    }
   },
   "outputs": [],
   "source": [
    "import numpy as np\n",
    "import sklearn.ensemble\n",
    "from anchor import utils\n",
    "import xaibenchmark as xb\n",
    "from xaibenchmark import load_adult as la\n",
    "from xaibenchmark import preprocessing\n",
    "from xaibenchmark.comparator import ExplainerComparator\n",
    "\n",
    "np.random.seed(1)"
   ]
  },
  {
   "cell_type": "code",
   "execution_count": 2,
   "metadata": {
    "pycharm": {
     "is_executing": false
    }
   },
   "outputs": [],
   "source": [
    "# make sure you have adult/adult.data inside dataset_folder\n",
    "dataset_folder = '../data/'\n",
    "adult_dataset = utils.load_dataset('adult', balance=True, dataset_folder=dataset_folder, discretize=True)"
   ]
  },
  {
   "cell_type": "code",
   "execution_count": 12,
   "metadata": {
    "pycharm": {
     "is_executing": false
    }
   },
   "outputs": [
    {
     "data": {
      "text/plain": [
       "RandomForestClassifier(n_estimators=50, n_jobs=5)"
      ]
     },
     "execution_count": 12,
     "metadata": {},
     "output_type": "execute_result"
    }
   ],
   "source": [
    "rf = sklearn.ensemble.RandomForestClassifier(n_estimators=50, n_jobs=5)\n",
    "rf.fit(adult_dataset.train, adult_dataset.labels_train)"
   ]
  },
  {
   "cell_type": "code",
   "execution_count": 17,
   "metadata": {},
   "outputs": [
    {
     "data": {
      "text/plain": [
       "dict_keys(['labels', 'class_names', 'class_target', 'ordinal_features', 'categorical_features', 'categorical_names', 'feature_names', 'data', 'train', 'labels_train', 'validation', 'labels_validation', 'test', 'labels_test', 'test_idx', 'validation_idx', 'train_idx'])"
      ]
     },
     "execution_count": 17,
     "metadata": {},
     "output_type": "execute_result"
    }
   ],
   "source": [
    "adult_dataset.__dict__.keys()"
   ]
  },
  {
   "cell_type": "code",
   "execution_count": 29,
   "metadata": {},
   "outputs": [
    {
     "data": {
      "text/plain": [
       "['Age',\n",
       " 'Workclass',\n",
       " 'Education',\n",
       " 'Marital Status',\n",
       " 'Occupation',\n",
       " 'Relationship',\n",
       " 'Race',\n",
       " 'Sex',\n",
       " 'Capital Gain',\n",
       " 'Capital Loss',\n",
       " 'Hours per week',\n",
       " 'Country']"
      ]
     },
     "execution_count": 29,
     "metadata": {},
     "output_type": "execute_result"
    }
   ],
   "source": [
    "adult_dataset.feature_names"
   ]
  },
  {
   "cell_type": "code",
   "execution_count": 13,
   "metadata": {},
   "outputs": [
    {
     "data": {
      "text/plain": [
       "array([[ 3.,  6., 15., ...,  0.,  1., 39.],\n",
       "       [ 2.,  7., 10., ...,  0.,  0., 22.],\n",
       "       [ 3.,  4., 15., ...,  0.,  0., 39.],\n",
       "       ...,\n",
       "       [ 1.,  6.,  5., ...,  0.,  1., 39.],\n",
       "       [ 3.,  4., 11., ...,  0.,  0., 39.],\n",
       "       [ 2.,  4., 15., ...,  0.,  0.,  8.]])"
      ]
     },
     "execution_count": 13,
     "metadata": {},
     "output_type": "execute_result"
    }
   ],
   "source": [
    "adult_dataset.train"
   ]
  },
  {
   "cell_type": "code",
   "execution_count": 4,
   "metadata": {},
   "outputs": [
    {
     "data": {
      "text/plain": [
       "RandomForestClassifier()"
      ]
     },
     "execution_count": 4,
     "metadata": {},
     "output_type": "execute_result"
    }
   ],
   "source": [
    "data = la.load_csv_data('adult', root_path=dataset_folder)\n",
    "lime_training_set = preprocessing.lime_preprocess_dataset(data.data, data.categorical_features, data.data.keys())\n",
    "lime_ml_model = sklearn.ensemble.RandomForestClassifier(n_estimators=100)\n",
    "lime_ml_model.fit(lime_training_set, data.target.to_numpy().reshape(-1))    "
   ]
  },
  {
   "cell_type": "markdown",
   "metadata": {},
   "source": [
    "--------------\n",
    "### IMport Explainers"
   ]
  },
  {
   "cell_type": "code",
   "execution_count": 5,
   "metadata": {},
   "outputs": [],
   "source": [
    "from xaibenchmark.explainers import AnchorsExplainer, LimeExplainer"
   ]
  },
  {
   "cell_type": "markdown",
   "metadata": {},
   "source": [
    "### Usage of implemented explainer"
   ]
  },
  {
   "cell_type": "code",
   "execution_count": 6,
   "metadata": {
    "pycharm": {
     "is_executing": false
    }
   },
   "outputs": [],
   "source": [
    "# instantiate anchors explainer\n",
    "exp1 = AnchorsExplainer(rf, '../data/')\n",
    "exp2 = LimeExplainer(data, lime_ml_model, discretize_continuous=False)"
   ]
  },
  {
   "cell_type": "code",
   "execution_count": 7,
   "metadata": {},
   "outputs": [],
   "source": [
    "data = la.load_csv_data('adult', root_path='../data/')"
   ]
  },
  {
   "cell_type": "code",
   "execution_count": 8,
   "metadata": {
    "collapsed": false,
    "jupyter": {
     "outputs_hidden": false
    },
    "pycharm": {
     "is_executing": false,
     "name": "#%%\n"
    }
   },
   "outputs": [
    {
     "name": "stdout",
     "output_type": "stream",
     "text": [
      "Current explanation: ['Education = 5th-6th']\n"
     ]
    }
   ],
   "source": [
    "explanation = exp1.explain_instance(data.data.iloc[[70]], \"test\", threshold=0.65)\n",
    "print(\"Current explanation:\", explanation.names())"
   ]
  },
  {
   "cell_type": "code",
   "execution_count": 9,
   "metadata": {},
   "outputs": [],
   "source": [
    "comp = ExplainerComparator()\n",
    "comp.add_explainer(exp1, 'ANCHORS')\n",
    "comp.add_explainer(exp2, 'LIME')"
   ]
  },
  {
   "cell_type": "code",
   "execution_count": 10,
   "metadata": {},
   "outputs": [],
   "source": [
    "comp.explain_instance(data.data.iloc[[5000]])"
   ]
  },
  {
   "cell_type": "code",
   "execution_count": 11,
   "metadata": {},
   "outputs": [
    {
     "name": "stdout",
     "output_type": "stream",
     "text": [
      "ANCHORS : {('balance_model', 0.0625), ('precision', 0.8139825218476904), ('coverage', 0.0064), ('area_norm', 0.7937005259840998), ('balance_explanation', 0), ('area', 0.0625), ('balance_data', 0.07291666666666667), ('inverse_coverage', 156.25), ('accuracy', 0.9375)}\n",
      "LIME : {('area', 2.589477453233665e+139), ('inverse_coverage', 21483.653906245258), ('accuracy', 0.7956828850963015), ('area_norm', 19.537233873073223), ('coverage', 4.65470168326116e-05), ('furthest_distance', 1.324577106447774), ('balance', 0.05484139867503181)}\n"
     ]
    }
   ],
   "source": [
    "comp.print_metrics()"
   ]
  },
  {
   "cell_type": "code",
   "execution_count": null,
   "metadata": {},
   "outputs": [],
   "source": []
  }
 ],
 "metadata": {
  "kernelspec": {
   "display_name": "xai_clean",
   "language": "python",
   "name": "xai_clean"
  },
  "language_info": {
   "codemirror_mode": {
    "name": "ipython",
    "version": 3
   },
   "file_extension": ".py",
   "mimetype": "text/x-python",
   "name": "python",
   "nbconvert_exporter": "python",
   "pygments_lexer": "ipython3",
   "version": "3.8.5"
  },
  "pycharm": {
   "stem_cell": {
    "cell_type": "raw",
    "metadata": {
     "collapsed": false
    },
    "source": []
   }
  }
 },
 "nbformat": 4,
 "nbformat_minor": 4
}
