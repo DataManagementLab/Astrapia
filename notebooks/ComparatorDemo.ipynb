{
 "cells": [
  {
   "cell_type": "code",
   "execution_count": 1,
   "metadata": {
    "pycharm": {
     "is_executing": false
    }
   },
   "outputs": [
    {
     "name": "stdout",
     "text": [
      "done1\n",
      "done2\n",
      "Metric values for explainer ANCHORS , explanation created with the 0 instance of the given data\n\t accuracy : 0.9375\n\t balance_model : 0.0625\n\t balance_explanation : 0\n\t area_norm : 0.7937005259840998\n\t balance_data : 0.07291666666666667\n\t precision : 0.8043912175648703\n\t area : 0.0625\n\t inverse_coverage : 156.25\n\t coverage : 0.0064\nMetric values for explainer ANCHORS , explanation created with the 1 instance of the given data\n\t accuracy : 0.9944567627494457\n\t balance_model : 0.9944567627494457\n\t coverage : 0.0709\n\t inverse_coverage : 14.104372355430183\n\t area : 0.3333333333333333\n\t balance_explanation : 1\n\t area_norm : 0.9125147547604939\n\t balance_data : 0.9944567627494457\n\t precision : 1.0\n"
     ],
     "output_type": "stream"
    }
   ],
   "source": [
    "import numpy as np\n",
    "import sklearn.ensemble\n",
    "from anchor import utils\n",
    "import xaibenchmark as xb\n",
    "from xaibenchmark import load_adult as la\n",
    "from xaibenchmark import preprocessing\n",
    "from xaibenchmark.comparator import ExplainerComparator\n",
    "\n",
    "np.random.seed(1)"
   ]
  },
  {
   "cell_type": "code",
   "execution_count": 2,
   "metadata": {
    "pycharm": {
     "is_executing": false
    }
   },
   "outputs": [],
   "source": [
    "# make sure you have adult/adult.data inside dataset_folder\n",
    "dataset_folder = '../data/'\n",
    "adult_dataset = utils.load_dataset('adult', balance=True, dataset_folder=dataset_folder, discretize=True)"
   ]
  },
  {
   "cell_type": "code",
   "execution_count": 3,
   "metadata": {
    "pycharm": {
     "is_executing": false
    }
   },
   "outputs": [
    {
     "data": {
      "text/plain": "RandomForestClassifier(n_estimators=50, n_jobs=5)"
     },
     "metadata": {},
     "output_type": "execute_result",
     "execution_count": 3
    }
   ],
   "source": [
    "rf = sklearn.ensemble.RandomForestClassifier(n_estimators=50, n_jobs=5)\n",
    "rf.fit(adult_dataset.train, adult_dataset.labels_train)"
   ]
  },
  {
   "cell_type": "code",
   "execution_count": 4,
   "metadata": {
    "pycharm": {
     "is_executing": false
    }
   },
   "outputs": [
    {
     "data": {
      "text/plain": "dict_keys(['labels', 'class_names', 'class_target', 'ordinal_features', 'categorical_features', 'categorical_names', 'feature_names', 'data', 'train', 'labels_train', 'validation', 'labels_validation', 'test', 'labels_test', 'test_idx', 'validation_idx', 'train_idx'])"
     },
     "metadata": {},
     "output_type": "execute_result",
     "execution_count": 4
    }
   ],
   "source": [
    "adult_dataset.__dict__.keys()"
   ]
  },
  {
   "cell_type": "code",
   "execution_count": 5,
   "metadata": {
    "pycharm": {
     "is_executing": false
    }
   },
   "outputs": [
    {
     "data": {
      "text/plain": "['Age',\n 'Workclass',\n 'Education',\n 'Marital Status',\n 'Occupation',\n 'Relationship',\n 'Race',\n 'Sex',\n 'Capital Gain',\n 'Capital Loss',\n 'Hours per week',\n 'Country']"
     },
     "metadata": {},
     "output_type": "execute_result",
     "execution_count": 5
    }
   ],
   "source": [
    "adult_dataset.feature_names"
   ]
  },
  {
   "cell_type": "code",
   "execution_count": 6,
   "metadata": {
    "pycharm": {
     "is_executing": false
    }
   },
   "outputs": [
    {
     "data": {
      "text/plain": "array([[ 3.,  6., 15., ...,  0.,  1., 39.],\n       [ 2.,  7., 10., ...,  0.,  0., 22.],\n       [ 3.,  4., 15., ...,  0.,  0., 39.],\n       ...,\n       [ 1.,  6.,  5., ...,  0.,  1., 39.],\n       [ 3.,  4., 11., ...,  0.,  0., 39.],\n       [ 2.,  4., 15., ...,  0.,  0.,  8.]])"
     },
     "metadata": {},
     "output_type": "execute_result",
     "execution_count": 6
    }
   ],
   "source": [
    "adult_dataset.train"
   ]
  },
  {
   "cell_type": "code",
   "execution_count": 7,
   "metadata": {
    "pycharm": {
     "is_executing": false
    }
   },
   "outputs": [
    {
     "data": {
      "text/plain": "RandomForestClassifier()"
     },
     "metadata": {},
     "output_type": "execute_result",
     "execution_count": 7
    }
   ],
   "source": [
    "data = la.load_csv_data('adult', root_path=dataset_folder)\n",
    "lime_training_set = preprocessing.lime_preprocess_dataset(data.data, data.categorical_features, data.data.keys())\n",
    "lime_ml_model = sklearn.ensemble.RandomForestClassifier(n_estimators=100)\n",
    "lime_ml_model.fit(lime_training_set, data.target.to_numpy().reshape(-1))    "
   ]
  },
  {
   "cell_type": "markdown",
   "metadata": {},
   "source": [
    "--------------\n",
    "### IMport Explainers"
   ]
  },
  {
   "cell_type": "code",
   "execution_count": 8,
   "metadata": {
    "pycharm": {
     "is_executing": false
    }
   },
   "outputs": [],
   "source": [
    "from xaibenchmark.explainers import AnchorsExplainer, LimeExplainer"
   ]
  },
  {
   "cell_type": "markdown",
   "metadata": {},
   "source": [
    "### Usage of implemented explainer"
   ]
  },
  {
   "cell_type": "code",
   "execution_count": 9,
   "metadata": {
    "pycharm": {
     "is_executing": false
    }
   },
   "outputs": [],
   "source": [
    "# instantiate anchors explainer\n",
    "exp1 = AnchorsExplainer(rf, '../data/', 'adult')\n",
    "exp2 = LimeExplainer(data, lime_ml_model, discretize_continuous=False)"
   ]
  },
  {
   "cell_type": "code",
   "execution_count": 10,
   "metadata": {
    "pycharm": {
     "is_executing": false
    }
   },
   "outputs": [],
   "source": [
    "data = la.load_csv_data('adult', root_path='../data/')"
   ]
  },
  {
   "cell_type": "code",
   "execution_count": 11,
   "metadata": {
    "collapsed": false,
    "jupyter": {
     "outputs_hidden": false
    },
    "pycharm": {
     "is_executing": false,
     "name": "#%%\n"
    }
   },
   "outputs": [
    {
     "name": "stdout",
     "text": [
      "Current explanation: ['Education = 5th-6th', 'Relationship = Own-child', 'Hours per week <= 40.00', 'Capital Gain = 0']\nTEST <class 'set'>\n"
     ],
     "output_type": "stream"
    },
    {
     "name": "stderr",
     "text": [
      "C:\\Users\\timri\\AppData\\Roaming\\Python\\Python37\\site-packages\\numpy\\core\\fromnumeric.py:3420: RuntimeWarning: Mean of empty slice.\n  out=out, **kwargs)\nC:\\Users\\timri\\AppData\\Roaming\\Python\\Python37\\site-packages\\numpy\\core\\_methods.py:188: RuntimeWarning: invalid value encountered in double_scalars\n  ret = ret.dtype.type(ret / rcount)\n"
     ],
     "output_type": "stream"
    }
   ],
   "source": [
    "explanation = exp1.explain_instance(data.data.iloc[[70]], \"test\", threshold=0.99)\n",
    "print(\"Current explanation:\", explanation.names())"
   ]
  },
  {
   "cell_type": "code",
   "execution_count": 12,
   "outputs": [
    {
     "name": "stdout",
     "text": [
      "<class 'str'>\n<class 'float'>\n<class 'str'>\n<class 'float'>\n<class 'str'>\n<class 'float'>\n<class 'str'>\n<class 'numpy.int32'>\n<class 'str'>\n<class 'numpy.float64'>\n<class 'str'>\n<class 'numpy.float64'>\n<class 'str'>\n<class 'numpy.float64'>\n"
     ],
     "output_type": "stream"
    }
   ],
   "source": [
    "for item in exp1.report():\n",
    "    for el in item:\n",
    "        print(type(el))"
   ],
   "metadata": {
    "collapsed": false,
    "pycharm": {
     "name": "#%%\n",
     "is_executing": false
    }
   }
  },
  {
   "cell_type": "code",
   "execution_count": 13,
   "metadata": {
    "pycharm": {
     "is_executing": false
    }
   },
   "outputs": [],
   "source": [
    "comp = ExplainerComparator()\n",
    "comp.add_explainer(exp1, 'ANCHORS')\n",
    "comp.add_explainer(exp2, 'LIME')"
   ]
  },
  {
   "cell_type": "code",
   "execution_count": 14,
   "metadata": {
    "pycharm": {
     "is_executing": false
    }
   },
   "outputs": [],
   "source": [
    "comp.explain_instances(data.data.iloc[[1, 2, 3000]])"
   ]
  },
  {
   "cell_type": "code",
   "execution_count": 15,
   "metadata": {
    "pycharm": {
     "is_executing": false
    }
   },
   "outputs": [
    {
     "name": "stdout",
     "text": [
      "Average metric values for explainer ANCHORS :\n\t accuracy : 0.8440258594682511\n\t coverage : 0.0146\n\t balance_model : 0.15597414053174885\n\t inverse_coverage : 88.43671934991592\n\t balance_explanation : 0.0\n\t area_norm : 0.7937005259840998\n\t balance_data : 0.15597045147496688\n\t area : 0.0625\n\t precision : 0.7934397417960226\nAverage metric values for explainer LIME :\n\t furthest_distance : 5.539484077519858\n\t area_norm : 19.537233873073223\n\t accuracy : 0.8065487942204479\n\t inverse_coverage : 16908.766072836985\n\t coverage : 7.633831617481052e-05\n\t balance : 0.07437956097632314\n\t area : 2.589477453233665e+139\n"
     ],
     "output_type": "stream"
    }
   ],
   "source": [
    "comp.print_metrics()"
   ]
  },
  {
   "cell_type": "code",
   "execution_count": 16,
   "metadata": {
    "pycharm": {
     "is_executing": false
    }
   },
   "outputs": [
    {
     "name": "stdout",
     "text": [
      "Metric values for explainer ANCHORS , explanation created with the 1 instance of the given data\n\t accuracy : 0.9375\n\t coverage : 0.0064\n\t balance_model : 0.0625\n\t balance_explanation : 0\n\t area_norm : 0.7937005259840998\n\t balance_data : 0.07291666666666667\n\t area : 0.0625\n\t inverse_coverage : 156.25\n\t precision : 0.815230961298377\nMetric values for explainer LIME , explanation created with the 1 instance of the given data\n\t area_norm : 19.537233873073223\n\t accuracy : 0.8010354056069846\n\t furthest_distance : 14.38285723485059\n\t coverage : 0.00013663197251347076\n\t balance : 0.06313341815469661\n\t inverse_coverage : 7318.93115208747\n\t area : 2.589477453233665e+139\n"
     ],
     "output_type": "stream"
    }
   ],
   "source": [
    "comp.print_metrics(explainer=\"ANCHORS\", index=1)\n",
    "comp.print_metrics(explainer=\"LIME\", index=1)"
   ]
  }
 ],
 "metadata": {
  "kernelspec": {
   "name": "python3",
   "language": "python",
   "display_name": "Python 3"
  },
  "language_info": {
   "codemirror_mode": {
    "name": "ipython",
    "version": 3
   },
   "file_extension": ".py",
   "mimetype": "text/x-python",
   "name": "python",
   "nbconvert_exporter": "python",
   "pygments_lexer": "ipython3",
   "version": "3.8.5"
  },
  "pycharm": {
   "stem_cell": {
    "cell_type": "raw",
    "source": [],
    "metadata": {
     "collapsed": false
    }
   }
  }
 },
 "nbformat": 4,
 "nbformat_minor": 4
}