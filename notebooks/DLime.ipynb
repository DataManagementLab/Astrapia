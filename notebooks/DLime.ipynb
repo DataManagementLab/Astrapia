{
 "cells": [
  {
   "cell_type": "markdown",
   "metadata": {
    "collapsed": true,
    "pycharm": {
     "name": "#%% md\n"
    }
   },
   "source": [
    "### DLIME\n"
   ]
  },
  {
   "cell_type": "markdown",
   "source": [
    "### Import data"
   ],
   "metadata": {
    "collapsed": false,
    "pycharm": {
     "name": "#%% md\n"
    }
   }
  },
  {
   "cell_type": "code",
   "execution_count": 1,
   "outputs": [],
   "source": [
    "from sklearn.utils import Bunch\n",
    "from sklearn.ensemble import RandomForestClassifier\n",
    "import numpy as np\n",
    "\n",
    "data = Bunch()\n",
    "data.train = np.load(\"../data/breast/X_train.npy\")\n",
    "data.test = np.load(\"../data/breast/X_test.npy\")\n",
    "data.labels_train = np.load(\"../data/breast/y_train.npy\")\n",
    "data.labels_test = np.load(\"../data/breast/y_test.npy\")\n",
    "\n",
    "data.feature_names = ['mean radius',\n",
    "                 'mean texture',\n",
    "                 'mean perimeter',\n",
    "                 'mean area',\n",
    "                 'mean smoothness',\n",
    "                 'mean compactness',\n",
    "                 'mean concavity',\n",
    "                 'mean concave points',\n",
    "                 'mean symmetry',\n",
    "                 'mean fractal dimension',\n",
    "                 'radius error',\n",
    "                 'texture error',\n",
    "                 'perimeter error',\n",
    "                 'area error',\n",
    "                 'smoothness error',\n",
    "                 'compactness error',\n",
    "                 'concavity error',\n",
    "                 'concave points error',\n",
    "                 'symmetry error',\n",
    "                 'fractal dimension error',\n",
    "                 'worst radius',\n",
    "                 'worst texture',\n",
    "                 'worst perimeter',\n",
    "                 'worst area',\n",
    "                 'worst smoothness',\n",
    "                 'worst compactness',\n",
    "                 'worst concavity',\n",
    "                 'worst concave points',\n",
    "                 'worst symmetry',\n",
    "                 'worst fractal dimension']\n",
    "data.target_names = ['malignant', 'benign']\n",
    "data.categorical_features = None"
   ],
   "metadata": {
    "collapsed": false,
    "pycharm": {
     "name": "#%%\n"
    }
   }
  },
  {
   "cell_type": "markdown",
   "source": [
    "### Build classifier"
   ],
   "metadata": {
    "collapsed": false
   }
  },
  {
   "cell_type": "code",
   "execution_count": 2,
   "outputs": [
    {
     "data": {
      "text/plain": "RandomForestClassifier(max_depth=5, max_features=5, n_estimators=10,\n                       random_state=0)"
     },
     "execution_count": 2,
     "metadata": {},
     "output_type": "execute_result"
    }
   ],
   "source": [
    "rf = RandomForestClassifier(n_estimators=10, random_state=0, max_depth=5, max_features=5)\n",
    "rf.fit(data.train, data.labels_train)"
   ],
   "metadata": {
    "collapsed": false,
    "pycharm": {
     "name": "#%%\n"
    }
   }
  },
  {
   "cell_type": "markdown",
   "source": [
    "### Build explainer\n"
   ],
   "metadata": {
    "collapsed": false
   }
  },
  {
   "cell_type": "code",
   "execution_count": 3,
   "outputs": [],
   "source": [
    "from xaibenchmark.explainers.dlime import DLimeExplainer\n",
    "\n",
    "exp = DLimeExplainer(data, rf, discretize_continuous=False)"
   ],
   "metadata": {
    "collapsed": false,
    "pycharm": {
     "name": "#%%\n"
    }
   }
  },
  {
   "cell_type": "markdown",
   "source": [
    "### Explain instance and Plot"
   ],
   "metadata": {
    "collapsed": false
   }
  },
  {
   "cell_type": "code",
   "execution_count": 4,
   "outputs": [],
   "source": [
    "exp.explain_instance(1)"
   ],
   "metadata": {
    "collapsed": false,
    "pycharm": {
     "name": "#%%\n"
    }
   }
  },
  {
   "cell_type": "code",
   "execution_count": 7,
   "outputs": [
    {
     "data": {
      "text/plain": "(<Figure size 288x144 with 1 Axes>,\n ['25.59 < worst texture <= 29.88',\n  'worst compactness > 0.33',\n  'mean radius > 15.75',\n  'mean concavity > 0.13',\n  'worst perimeter > 125.25',\n  'mean perimeter > 103.75',\n  'mean concave points > 0.07',\n  'worst concave points > 0.16',\n  'worst area > 1047.00',\n  'worst radius > 18.55'])"
     },
     "execution_count": 7,
     "metadata": {},
     "output_type": "execute_result"
    },
    {
     "data": {
      "text/plain": "<Figure size 288x144 with 1 Axes>",
      "image/png": "[encoded data removed]"
     },
     "metadata": {
      "needs_background": "light"
     },
     "output_type": "display_data"
    }
   ],
   "source": [
    "exp.explanation.as_pyplot_to_figure(type='h', name =.3, label='0')"
   ],
   "metadata": {
    "collapsed": false,
    "pycharm": {
     "name": "#%%\n"
    }
   }
  },
  {
   "cell_type": "markdown",
   "source": [
    "### Using DLIME"
   ],
   "metadata": {
    "collapsed": false
   }
  },
  {
   "cell_type": "code",
   "execution_count": 5,
   "outputs": [],
   "source": [
    "from xaibenchmark.dlime.explainer_tabular import LimeTabularExplainer\n",
    "\n",
    "explainer = LimeTabularExplainer(data.train,\n",
    "                                 mode=\"classification\",\n",
    "                                 feature_names=data.feature_names,\n",
    "                                 class_names=data.target_names,\n",
    "                                 discretize_continuous=True,\n",
    "                                 verbose=False)"
   ],
   "metadata": {
    "collapsed": false,
    "pycharm": {
     "name": "#%%\n"
    }
   }
  },
  {
   "cell_type": "markdown",
   "source": [
    "### Clustering"
   ],
   "metadata": {
    "collapsed": false
   }
  },
  {
   "cell_type": "code",
   "execution_count": 4,
   "outputs": [],
   "source": [
    "from sklearn.datasets import load_breast_cancer\n",
    "from sklearn.neighbors import NearestNeighbors\n",
    "from sklearn.cluster import AgglomerativeClustering\n",
    "\n",
    "data = load_breast_cancer()\n",
    "X = data.data\n",
    "\n",
    "clustering = AgglomerativeClustering().fit(X)\n",
    "names = list(data.feature_names)+[\"membership\"]\n",
    "clustered_data = np.column_stack([X, clustering.labels_])\n",
    "\n",
    "nbrs = NearestNeighbors(n_neighbors=1, algorithm='ball_tree').fit(data.train)\n",
    "distances, indices = nbrs.kneighbors(data.test)\n",
    "clabel = clustering.labels_"
   ],
   "metadata": {
    "collapsed": false,
    "pycharm": {
     "name": "#%%\n"
    }
   }
  },
  {
   "cell_type": "markdown",
   "source": [
    "### Explain instance"
   ],
   "metadata": {
    "collapsed": false
   }
  },
  {
   "cell_type": "code",
   "execution_count": 5,
   "outputs": [],
   "source": [
    "from sklearn.linear_model import LinearRegression\n",
    "\n",
    "p_label = clabel[indices[0]]\n",
    "N = clustered_data[clustered_data[:, 30] == p_label]\n",
    "subset = np.delete(N, 30, axis=1)\n",
    "\n",
    "exp_dlime = explainer.explain_instance_hclust(data.test[0],\n",
    "                                     rf.predict_proba,\n",
    "                                     num_features=10,\n",
    "                                     model_regressor=LinearRegression(),\n",
    "                                     clustered_data = subset,\n",
    "                                     regressor = 'linear', labels=(0,1))"
   ],
   "metadata": {
    "collapsed": false,
    "pycharm": {
     "name": "#%%\n"
    }
   }
  },
  {
   "cell_type": "code",
   "execution_count": 6,
   "outputs": [
    {
     "data": {
      "text/plain": "{0: 0.4664340395863895, 1: 0.4664340395863895}"
     },
     "execution_count": 6,
     "metadata": {},
     "output_type": "execute_result"
    }
   ],
   "source": [
    "exp_dlime.score\n"
   ],
   "metadata": {
    "collapsed": false,
    "pycharm": {
     "name": "#%%\n"
    }
   }
  },
  {
   "cell_type": "markdown",
   "source": [
    "### Show graph"
   ],
   "metadata": {
    "collapsed": false
   }
  },
  {
   "cell_type": "code",
   "execution_count": 7,
   "outputs": [
    {
     "data": {
      "text/plain": "(<Figure size 288x144 with 1 Axes>,\n ['mean texture > 21.88',\n  'mean radius > 15.75',\n  'mean concavity > 0.13',\n  'worst texture > 29.88',\n  'worst perimeter > 125.25',\n  'mean perimeter > 103.75',\n  'mean concave points > 0.07',\n  'worst concave points > 0.16',\n  'worst area > 1047.00',\n  'worst radius > 18.55'])"
     },
     "execution_count": 7,
     "metadata": {},
     "output_type": "execute_result"
    },
    {
     "data": {
      "text/plain": "<Figure size 288x144 with 1 Axes>",
      "image/png": "[encoded data removed]"
     },
     "metadata": {
      "needs_background": "light"
     },
     "output_type": "display_data"
    }
   ],
   "source": [
    "exp_dlime.as_pyplot_to_figure(type='h', name =.3, label='0')\n"
   ],
   "metadata": {
    "collapsed": false,
    "pycharm": {
     "name": "#%%\n"
    }
   }
  }
 ],
 "metadata": {
  "kernelspec": {
   "display_name": "Python 3",
   "language": "python",
   "name": "python3"
  },
  "language_info": {
   "codemirror_mode": {
    "name": "ipython",
    "version": 2
   },
   "file_extension": ".py",
   "mimetype": "text/x-python",
   "name": "python",
   "nbconvert_exporter": "python",
   "pygments_lexer": "ipython2",
   "version": "2.7.6"
  }
 },
 "nbformat": 4,
 "nbformat_minor": 0
}