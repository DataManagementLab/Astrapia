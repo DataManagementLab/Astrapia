{
 "cells": [
  {
   "cell_type": "markdown",
   "source": [
    "File created by following https://marcotcr.github.io/lime/tutorials/Tutorial%20-%20continuous%20and%20categorical%20features.html"
   ],
   "metadata": {}
  },
  {
   "cell_type": "markdown",
   "source": [
    "## Import"
   ],
   "metadata": {
    "pycharm": {
     "is_executing": true,
     "name": "#%% md\n"
    }
   }
  },
  {
   "cell_type": "code",
   "execution_count": null,
   "source": [
    "import numpy as np\r\n",
    "import pandas as pd\r\n",
    "import sklearn\r\n",
    "import sklearn.ensemble\r\n",
    "import lime\r\n",
    "import lime.lime_tabular\r\n",
    "\r\n",
    "# util\r\n",
    "from astrapia import load_adult as la"
   ],
   "outputs": [],
   "metadata": {
    "pycharm": {
     "name": "#%%\n"
    }
   }
  },
  {
   "cell_type": "markdown",
   "source": [
    "## Load Dataset\n",
    "\n",
    "To run the following lines, make sure you have run `setup_adult.py` under the `data/adult/` to get the necessary datasets."
   ],
   "metadata": {}
  },
  {
   "cell_type": "code",
   "execution_count": null,
   "source": [
    "data = la.load_csv_data('adult', root_path='../data')\r\n",
    "data.data"
   ],
   "outputs": [],
   "metadata": {}
  },
  {
   "cell_type": "code",
   "execution_count": null,
   "source": [
    "def preprocess(*data_df): \r\n",
    "    def process_single(df):\r\n",
    "        \r\n",
    "        cat_df = pd.get_dummies(df, columns=data.categorical_features.keys())\r\n",
    "        missing_cols = {cat+'_'+str(attr) for cat in data.categorical_features \\\r\n",
    "                        for attr in data.categorical_features[cat]} - set(cat_df.columns)\r\n",
    "        for c in missing_cols:\r\n",
    "            cat_df[c] = 0\r\n",
    "            \r\n",
    "        cont_idx = list(set(data.data.keys()) - set(data.categorical_features.keys()))\r\n",
    "        cat_idx = [cat+'_'+str(attr) for cat in data.categorical_features \\\r\n",
    "                   for attr in data.categorical_features[cat]]\r\n",
    "        idx = cont_idx + cat_idx\r\n",
    "        return cat_df[idx]\r\n",
    "        \r\n",
    "    # Preprocess function for one-hot encoding categorical data\r\n",
    "    return [process_single(df) for df in data_df]"
   ],
   "outputs": [],
   "metadata": {}
  },
  {
   "cell_type": "code",
   "execution_count": null,
   "source": [
    "train, dev, test = preprocess(data.data, data.data_dev, data.data_test)\r\n",
    "labels_train, labels_dev, labels_test = data.target, data.target_dev, data.target_test"
   ],
   "outputs": [],
   "metadata": {}
  },
  {
   "cell_type": "markdown",
   "source": [
    "## Train RF Classifier"
   ],
   "metadata": {}
  },
  {
   "cell_type": "code",
   "execution_count": null,
   "source": [
    "rf = sklearn.ensemble.RandomForestClassifier(n_estimators=500)\n",
    "rf.fit(train, labels_train.to_numpy().reshape(-1))"
   ],
   "outputs": [],
   "metadata": {}
  },
  {
   "cell_type": "code",
   "execution_count": null,
   "source": [
    "y_pred = rf.predict(dev)"
   ],
   "outputs": [],
   "metadata": {}
  },
  {
   "cell_type": "code",
   "execution_count": null,
   "source": [
    "y_true = labels_dev.to_numpy().reshape(-1)"
   ],
   "outputs": [],
   "metadata": {}
  },
  {
   "cell_type": "code",
   "execution_count": null,
   "source": [
    "print('Classification report')\n",
    "print('{:->60}'.format(''))\n",
    "print(sklearn.metrics.classification_report(y_true, y_pred))"
   ],
   "outputs": [],
   "metadata": {}
  },
  {
   "cell_type": "markdown",
   "source": [
    "## Explain instances"
   ],
   "metadata": {}
  },
  {
   "cell_type": "code",
   "execution_count": null,
   "source": [
    "explainer = lime.lime_tabular.LimeTabularExplainer(train, feature_names=train.keys(),\n",
    "                                                   class_names=data.target_names,\n",
    "                                                   discretize_continuous=False)"
   ],
   "outputs": [],
   "metadata": {}
  },
  {
   "cell_type": "markdown",
   "source": [
    "### Instance 1"
   ],
   "metadata": {}
  },
  {
   "cell_type": "code",
   "execution_count": null,
   "source": [
    "i = np.random.randint(0, test.shape[0]) # get random sample\n",
    "exp = explainer.explain_instance(test.iloc[i], rf.predict_proba, num_features=10)"
   ],
   "outputs": [],
   "metadata": {}
  },
  {
   "cell_type": "code",
   "execution_count": null,
   "source": [
    "print('True label:', data.target.iloc[i]['income'])\n",
    "print('{:->60}'.format(''))\n",
    "print(data.data.iloc[i])\n",
    "print('{:->60}'.format(''))\n",
    "exp.show_in_notebook(show_table=True, show_all=False, show_predicted_value=True)\n",
    "print('{:->60}'.format(''))\n",
    "fig = exp.as_pyplot_figure()"
   ],
   "outputs": [],
   "metadata": {}
  },
  {
   "cell_type": "markdown",
   "source": [
    "### Instance 2"
   ],
   "metadata": {}
  },
  {
   "cell_type": "code",
   "execution_count": null,
   "source": [
    "i = 0\n",
    "exp = explainer.explain_instance(test.iloc[i], rf.predict_proba, num_features=10)"
   ],
   "outputs": [],
   "metadata": {
    "collapsed": false,
    "jupyter": {
     "outputs_hidden": false
    },
    "pycharm": {
     "name": "#%%\n"
    }
   }
  },
  {
   "cell_type": "code",
   "execution_count": null,
   "source": [
    "print('True label:', data.target.iloc[i]['income'])\n",
    "print('{:->60}'.format(''))\n",
    "print(data.data.iloc[i])\n",
    "print('{:->60}'.format(''))\n",
    "exp.show_in_notebook(show_table=True, show_all=False, show_predicted_value=True)\n",
    "print('{:->60}'.format(''))\n",
    "fig = exp.as_pyplot_figure()"
   ],
   "outputs": [],
   "metadata": {
    "collapsed": false,
    "jupyter": {
     "outputs_hidden": false
    },
    "pycharm": {
     "name": "#%%\n"
    }
   }
  },
  {
   "cell_type": "markdown",
   "source": [
    "### Instance 3"
   ],
   "metadata": {}
  },
  {
   "cell_type": "code",
   "execution_count": null,
   "source": [
    "#i = np.random.randint(0, test.shape[0])# get another random sample\n",
    "exp = explainer.explain_instance(test.iloc[i], rf.predict_proba, num_features=10)"
   ],
   "outputs": [],
   "metadata": {}
  },
  {
   "cell_type": "code",
   "execution_count": null,
   "source": [
    "print('True label:', data.target.iloc[i]['income'])\n",
    "print('{:->60}'.format(''))\n",
    "print(data.data.iloc[i])\n",
    "print('{:->60}'.format(''))\n",
    "exp.show_in_notebook(show_table=True, show_all=False, show_predicted_value=True)\n",
    "print('{:->60}'.format(''))\n",
    "fig = exp.as_pyplot_figure()"
   ],
   "outputs": [],
   "metadata": {}
  },
  {
   "cell_type": "code",
   "execution_count": null,
   "source": [],
   "outputs": [],
   "metadata": {}
  }
 ],
 "metadata": {
  "kernelspec": {
   "display_name": "lime",
   "language": "python",
   "name": "lime"
  },
  "language_info": {
   "codemirror_mode": {
    "name": "ipython",
    "version": 3
   },
   "file_extension": ".py",
   "mimetype": "text/x-python",
   "name": "python",
   "nbconvert_exporter": "python",
   "pygments_lexer": "ipython3",
   "version": "3.8.5"
  }
 },
 "nbformat": 4,
 "nbformat_minor": 4
}